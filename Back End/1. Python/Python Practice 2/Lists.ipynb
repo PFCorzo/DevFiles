{
 "cells": [
  {
   "cell_type": "code",
   "execution_count": 4,
   "metadata": {},
   "outputs": [],
   "source": [
    "fictional_animals = [\"Dragons\", \"Bears\", \"Tigers\"] # Lists "
   ]
  },
  {
   "cell_type": "code",
   "execution_count": 6,
   "metadata": {},
   "outputs": [
    {
     "name": "stdout",
     "output_type": "stream",
     "text": [
      "['Dragons', 'Bears', 'Tigers']\n"
     ]
    }
   ],
   "source": [
    "print(fictional_animals) # Print the list by adding the variable with the paranthasees "
   ]
  },
  {
   "cell_type": "code",
   "execution_count": 9,
   "metadata": {},
   "outputs": [
    {
     "name": "stdout",
     "output_type": "stream",
     "text": [
      "Tigers\n"
     ]
    }
   ],
   "source": [
    "print(fictional_animals[2]) # To print an item within a list: Plug in the variable inside the paranthasees follow by brackets. Within that bracket put the number of the item with the list you want printed. "
   ]
  },
  {
   "cell_type": "code",
   "execution_count": 8,
   "metadata": {},
   "outputs": [
    {
     "name": "stdout",
     "output_type": "stream",
     "text": [
      "['Dragons', 'Bears']\n"
     ]
    }
   ],
   "source": [
    "print(fictional_animals[0:2]) # To print a range withing a list, within the paranthasees plug in the where your range would start follow by a colon; then, plug in the second number in your range. "
   ]
  },
  {
   "cell_type": "code",
   "execution_count": 10,
   "metadata": {},
   "outputs": [
    {
     "name": "stdout",
     "output_type": "stream",
     "text": [
      "Tigers\n"
     ]
    }
   ],
   "source": [
    "print(fictional_animals[-1]) # To wrap around to the end of a list and print the last item on the list. "
   ]
  },
  {
   "cell_type": "code",
   "execution_count": 19,
   "metadata": {},
   "outputs": [
    {
     "name": "stdout",
     "output_type": "stream",
     "text": [
      "['Dragons', 'Bears']\n"
     ]
    }
   ],
   "source": [
    "print(fictional_animals[:2]) # Get any item in the list after a specified list number by adding a colon followed by the item number you want to start at "
   ]
  },
  {
   "cell_type": "code",
   "execution_count": 1,
   "metadata": {},
   "outputs": [],
   "source": [
    "car_milage = [100000, 180000, 140000,98000]"
   ]
  },
  {
   "cell_type": "code",
   "execution_count": 2,
   "metadata": {},
   "outputs": [
    {
     "name": "stdout",
     "output_type": "stream",
     "text": [
      "[100000, 180000, 140000, 98000]\n"
     ]
    }
   ],
   "source": [
    "print(car_milage)"
   ]
  },
  {
   "cell_type": "code",
   "execution_count": null,
   "metadata": {},
   "outputs": [],
   "source": []
  }
 ],
 "metadata": {
  "interpreter": {
   "hash": "4391dcbe6c2267ad3c44f3e6a8afcb8a4619f1667985174056e2736c1cbef605"
  },
  "kernelspec": {
   "display_name": "Python 3.8.8 64-bit ('fintech': conda)",
   "name": "python3"
  },
  "language_info": {
   "codemirror_mode": {
    "name": "ipython",
    "version": 3
   },
   "file_extension": ".py",
   "mimetype": "text/x-python",
   "name": "python",
   "nbconvert_exporter": "python",
   "pygments_lexer": "ipython3",
   "version": "3.8.8"
  },
  "orig_nbformat": 4
 },
 "nbformat": 4,
 "nbformat_minor": 2
}
