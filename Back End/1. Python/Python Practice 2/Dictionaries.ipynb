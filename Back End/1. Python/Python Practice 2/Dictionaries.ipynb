{
 "cells": [
  {
   "cell_type": "code",
   "execution_count": 10,
   "metadata": {},
   "outputs": [],
   "source": [
    "words = {\"Jumangi\": \"A great movie about a game that comes to life\",  \n",
    "\"John Wick\": \"A movie about a assasin who kills a family of mobsters because they killed his dog\", \n",
    "\"8 mile\": \"A movie based on the funniest rapper the world has ever seen\"}"
   ]
  },
  {
   "cell_type": "code",
   "execution_count": 12,
   "metadata": {},
   "outputs": [],
   "source": [
    "stocks = {\"MSFT\": 1800, \n",
    "\"AAPL\": 2300,\n",
    "\"AMD\": 65.94\n",
    "}"
   ]
  },
  {
   "cell_type": "code",
   "execution_count": 13,
   "metadata": {},
   "outputs": [
    {
     "name": "stdout",
     "output_type": "stream",
     "text": [
      "{'Jumangi': 'A great movie about a game that comes to life', 'John Wick': 'A movie about a assasin who kills a family of mobsters because they killed his dog', '8 mile': 'A movie based on the funniest rapper the world has ever seen'}\n"
     ]
    }
   ],
   "source": [
    "print(words)"
   ]
  },
  {
   "cell_type": "code",
   "execution_count": 18,
   "metadata": {},
   "outputs": [
    {
     "name": "stdout",
     "output_type": "stream",
     "text": [
      "2300\n"
     ]
    }
   ],
   "source": [
    "print(stocks[\"AAPL\"])"
   ]
  },
  {
   "cell_type": "code",
   "execution_count": null,
   "metadata": {},
   "outputs": [],
   "source": []
  }
 ],
 "metadata": {
  "interpreter": {
   "hash": "4391dcbe6c2267ad3c44f3e6a8afcb8a4619f1667985174056e2736c1cbef605"
  },
  "kernelspec": {
   "display_name": "Python 3.8.8 64-bit ('fintech': conda)",
   "name": "python3"
  },
  "language_info": {
   "codemirror_mode": {
    "name": "ipython",
    "version": 3
   },
   "file_extension": ".py",
   "mimetype": "text/x-python",
   "name": "python",
   "nbconvert_exporter": "python",
   "pygments_lexer": "ipython3",
   "version": "3.8.8"
  },
  "orig_nbformat": 4
 },
 "nbformat": 4,
 "nbformat_minor": 2
}
